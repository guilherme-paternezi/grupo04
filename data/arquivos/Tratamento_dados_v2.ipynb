{
 "cells": [
  {
   "cell_type": "code",
   "execution_count": 2,
   "id": "1f5600fd",
   "metadata": {},
   "outputs": [
    {
     "name": "stderr",
     "output_type": "stream",
     "text": [
      "WARNING: An illegal reflective access operation has occurred\n",
      "WARNING: Illegal reflective access by org.apache.spark.unsafe.Platform (file:/usr/local/lib/python3.7/site-packages/pyspark/jars/spark-unsafe_2.12-3.2.1.jar) to constructor java.nio.DirectByteBuffer(long,int)\n",
      "WARNING: Please consider reporting this to the maintainers of org.apache.spark.unsafe.Platform\n",
      "WARNING: Use --illegal-access=warn to enable warnings of further illegal reflective access operations\n",
      "WARNING: All illegal access operations will be denied in a future release\n"
     ]
    },
    {
     "name": "stdout",
     "output_type": "stream",
     "text": [
      ":: loading settings :: url = jar:file:/usr/local/lib/python3.7/site-packages/pyspark/jars/ivy-2.5.0.jar!/org/apache/ivy/core/settings/ivysettings.xml\n"
     ]
    },
    {
     "name": "stderr",
     "output_type": "stream",
     "text": [
      "Ivy Default Cache set to: /root/.ivy2/cache\n",
      "The jars for the packages stored in: /root/.ivy2/jars\n",
      "org.apache.hadoop#hadoop-aws added as a dependency\n",
      "com.microsoft.azure#spark-mssql-connector_2.12 added as a dependency\n",
      ":: resolving dependencies :: org.apache.spark#spark-submit-parent-7421979d-b831-4375-9cb1-b362872c5676;1.0\n",
      "\tconfs: [default]\n",
      "\tfound org.apache.hadoop#hadoop-aws;3.2.2 in central\n",
      "\tfound com.amazonaws#aws-java-sdk-bundle;1.11.563 in central\n",
      "\tfound com.microsoft.azure#spark-mssql-connector_2.12;1.2.0 in central\n",
      "\tfound com.microsoft.sqlserver#mssql-jdbc;8.4.1.jre8 in central\n",
      ":: resolution report :: resolve 608ms :: artifacts dl 19ms\n",
      "\t:: modules in use:\n",
      "\tcom.amazonaws#aws-java-sdk-bundle;1.11.563 from central in [default]\n",
      "\tcom.microsoft.azure#spark-mssql-connector_2.12;1.2.0 from central in [default]\n",
      "\tcom.microsoft.sqlserver#mssql-jdbc;8.4.1.jre8 from central in [default]\n",
      "\torg.apache.hadoop#hadoop-aws;3.2.2 from central in [default]\n",
      "\t---------------------------------------------------------------------\n",
      "\t|                  |            modules            ||   artifacts   |\n",
      "\t|       conf       | number| search|dwnlded|evicted|| number|dwnlded|\n",
      "\t---------------------------------------------------------------------\n",
      "\t|      default     |   4   |   0   |   0   |   0   ||   4   |   0   |\n",
      "\t---------------------------------------------------------------------\n",
      ":: retrieving :: org.apache.spark#spark-submit-parent-7421979d-b831-4375-9cb1-b362872c5676\n",
      "\tconfs: [default]\n",
      "\t0 artifacts copied, 4 already retrieved (0kB/15ms)\n",
      "22/05/30 00:35:48 WARN NativeCodeLoader: Unable to load native-hadoop library for your platform... using builtin-java classes where applicable\n",
      "Using Spark's default log4j profile: org/apache/spark/log4j-defaults.properties\n",
      "Setting default log level to \"WARN\".\n",
      "To adjust logging level use sc.setLogLevel(newLevel). For SparkR, use setLogLevel(newLevel).\n",
      "22/05/30 00:35:55 WARN MetricsConfig: Cannot locate configuration: tried hadoop-metrics2-s3a-file-system.properties,hadoop-metrics2.properties\n",
      "                                                                                \r"
     ]
    },
    {
     "name": "stdout",
     "output_type": "stream",
     "text": [
      "1000001\n"
     ]
    },
    {
     "name": "stderr",
     "output_type": "stream",
     "text": [
      "[Stage 5:============================================>              (3 + 1) / 4]\r"
     ]
    },
    {
     "name": "stdout",
     "output_type": "stream",
     "text": [
      "1000000\n",
      "<class 'pyspark.sql.dataframe.DataFrame'>\n",
      "<class 'pyspark.sql.dataframe.DataFrame'>\n"
     ]
    },
    {
     "name": "stderr",
     "output_type": "stream",
     "text": [
      "                                                                                \r"
     ]
    }
   ],
   "source": [
    "#iniciar spark\n",
    "from pyspark import SparkConf\n",
    "from pyspark.sql import SparkSession\n",
    "from pyspark.sql.functions import col\n",
    "from pyspark.sql.types import IntegerType\n",
    "\n",
    "conf = SparkConf()\n",
    "#conf.set('spark.jars.packages', 'org.apache.hadoop:hadoop-aws:3.2.2')\n",
    "conf.set('spark.jars.packages', 'org.apache.hadoop:hadoop-aws:3.2.2,com.microsoft.azure:spark-mssql-connector_2.12:1.2.0')\n",
    "conf.set('spark.hadoop.fs.s3a.aws.credentials.provider', 'com.amazonaws.auth.InstanceProfileCredentialsProvider')\n",
    "spark = SparkSession.builder.config(conf=conf).getOrCreate()\n",
    "\n",
    "\n",
    "#carregar tabela ( atenção ao caminho)\n",
    "arquivo_json_grande = spark.read.json('s3a://staack-yuiti-b/casos_obitos_doencas_pre_multiline.json')\n",
    "arquivo_csv = spark.read.option('delimiter', ';').option('header', 'true').csv('s3a://staack-yuiti-b/evolucao_caso.csv')\n",
    "print(arquivo_json_grande.count())\n",
    "print(arquivo_csv.count())\n",
    "\n",
    "print( type(arquivo_json_grande) )\n",
    "print( type(arquivo_csv) )\n"
   ]
  },
  {
   "cell_type": "code",
   "execution_count": null,
   "id": "e6944d83",
   "metadata": {},
   "outputs": [],
   "source": [
    "#exibir a tabela\n",
    "arquivo_json_grande.printSchema()\n",
    "arquivo_csv.printSchema()\n"
   ]
  },
  {
   "cell_type": "code",
   "execution_count": 3,
   "id": "bd010c6e",
   "metadata": {
    "scrolled": true
   },
   "outputs": [
    {
     "name": "stdout",
     "output_type": "stream",
     "text": [
      "root\n",
      " |-- ESTADO: string (nullable = true)\n",
      " |-- SEXO: string (nullable = true)\n",
      " |-- IDADE: integer (nullable = true)\n",
      " |-- ASMA: string (nullable = true)\n",
      " |-- CARDIOPATIA: string (nullable = true)\n",
      " |-- DIABETE: string (nullable = true)\n",
      " |-- OBESIDADE: string (nullable = true)\n",
      " |-- SIN_DOWN: string (nullable = true)\n",
      "\n",
      "root\n",
      " |-- ESTADO: string (nullable = true)\n",
      " |-- SEXO: string (nullable = true)\n",
      " |-- IDADE: integer (nullable = true)\n",
      " |-- ETNIA: string (nullable = true)\n",
      " |-- EVOLUCAO_CASO: string (nullable = true)\n",
      " |-- PRIMEIRA_DOSE: string (nullable = true)\n",
      " |-- SEGUNDA_DOSE: string (nullable = true)\n",
      "\n"
     ]
    }
   ],
   "source": [
    "from pyspark.sql.functions import col\n",
    "from pyspark.sql.types import IntegerType\n",
    "# removendo as colunas que não são necessarias do json\n",
    "json_pre_tratado = arquivo_json_grande.select(\n",
    "    col('estado').alias('ESTADO'),\n",
    "    col('cs_sexo').alias('SEXO'),\n",
    "    col('idade').cast(IntegerType()).alias('IDADE'),\n",
    "    \n",
    "    col('asma').alias('ASMA'),\n",
    "    col('cardiopatia').alias('CARDIOPATIA'),\n",
    "    col('diabetes').alias('DIABETE'),\n",
    "    col('obesidade').alias('OBESIDADE'),\n",
    "    col('sindrome_de_down').alias('SIN_DOWN')\n",
    ")\n",
    "# removendo as colunas que não são necessarias do csv\n",
    "\n",
    "csv_pre_tratado = arquivo_csv.select(\n",
    "    col('estadoIBGE').alias('ESTADO'),\n",
    "    col('sexo').alias('SEXO'),\n",
    "    col('idade').cast(IntegerType()).alias('IDADE'),\n",
    "    \n",
    "    col('racaCor').alias('ETNIA'),\n",
    "    col('evolucaoCaso').alias('EVOLUCAO_CASO'),\n",
    "    col('codigoLaboratorioPrimeiraDose').alias('PRIMEIRA_DOSE'),\n",
    "    col('codigoLaboratorioSegundaDose').alias('SEGUNDA_DOSE')\n",
    ")\n",
    "\n",
    "json_pre_tratado.printSchema()\n",
    "\n",
    "csv_pre_tratado.printSchema()"
   ]
  },
  {
   "cell_type": "code",
   "execution_count": 7,
   "id": "12f2f18d",
   "metadata": {},
   "outputs": [
    {
     "name": "stderr",
     "output_type": "stream",
     "text": [
      "22/05/30 00:16:49 WARN AbstractS3ACommitterFactory: Using standard FileOutputCommitter to commit work. This is slow and potentially unsafe.\n",
      "22/05/30 00:16:49 WARN AbstractS3ACommitterFactory: Using standard FileOutputCommitter to commit work. This is slow and potentially unsafe.\n",
      "22/05/30 00:16:49 WARN AbstractS3ACommitterFactory: Using standard FileOutputCommitter to commit work. This is slow and potentially unsafe.\n",
      "22/05/30 00:16:58 WARN AbstractS3ACommitterFactory: Using standard FileOutputCommitter to commit work. This is slow and potentially unsafe.\n",
      "22/05/30 00:16:58 WARN AbstractS3ACommitterFactory: Using standard FileOutputCommitter to commit work. This is slow and potentially unsafe.\n",
      "22/05/30 00:17:05 WARN AbstractS3ACommitterFactory: Using standard FileOutputCommitter to commit work. This is slow and potentially unsafe.\n",
      "                                                                                \r"
     ]
    },
    {
     "name": "stdout",
     "output_type": "stream",
     "text": [
      "salvo\n"
     ]
    }
   ],
   "source": [
    "from pyspark.sql.functions import col\n",
    "from pyspark.sql.types import IntegerType\n",
    "print(\"salvando no s3\")\n",
    "arquivo_json_grande.write.mode('overwrite').option(\"header\", \"true\").csv('s3a://stack-yuit-test-sptech-data-transform/preTratedJson10.csv')\n",
    "\n",
    "print(\"salvo\")"
   ]
  },
  {
   "cell_type": "code",
   "execution_count": null,
   "id": "94aecc3b",
   "metadata": {},
   "outputs": [],
   "source": [
    "\n",
    "#fazendo calculos\n",
    "from pyspark.sql.functions import col, sum\n",
    "from pyspark.sql.types import IntegerType\n",
    "json_pre_tratado.select(sum(col('idade').cast(IntegerType())).alias('soma')).show()\n",
    "csv_pre_tratado.select(sum(col('idade').cast(IntegerType())).alias('soma')).show()\n"
   ]
  },
  {
   "cell_type": "code",
   "execution_count": null,
   "id": "1cad24f7",
   "metadata": {},
   "outputs": [],
   "source": []
  },
  {
   "cell_type": "code",
   "execution_count": 5,
   "id": "78ac2480",
   "metadata": {},
   "outputs": [
    {
     "name": "stderr",
     "output_type": "stream",
     "text": [
      "                                                                                \r"
     ]
    },
    {
     "name": "stdout",
     "output_type": "stream",
     "text": [
      "+------+------------------+\n",
      "|estado|        avg(IDADE)|\n",
      "+------+------------------+\n",
      "|    SC|39.196452933151434|\n",
      "|    RO|  39.4694171578258|\n",
      "|    PI|39.044805321854824|\n",
      "|    AM| 39.22893088987189|\n",
      "|    RR| 39.21560846560847|\n",
      "|    GO|39.171869199878515|\n",
      "|  null|              null|\n",
      "|    TO| 39.42488331388565|\n",
      "|    MT| 39.07632927397351|\n",
      "|    SP| 39.19261509583087|\n",
      "|    ES| 39.20011461318052|\n",
      "|    PB|39.147176115542145|\n",
      "|    RS|39.090246248557136|\n",
      "|    MS|  39.4780073308897|\n",
      "|    AL|39.308251473477405|\n",
      "|    MG| 39.29136937574106|\n",
      "|    PA| 39.21754769263562|\n",
      "|    BA|39.085467218852074|\n",
      "|    SE| 39.41999612102405|\n",
      "|    PE|39.196951219512194|\n",
      "+------+------------------+\n",
      "only showing top 20 rows\n",
      "\n"
     ]
    },
    {
     "name": "stderr",
     "output_type": "stream",
     "text": [
      "[Stage 11:===========================================>              (3 + 1) / 4]\r"
     ]
    },
    {
     "name": "stdout",
     "output_type": "stream",
     "text": [
      "+------+------------------+\n",
      "|estado|        avg(IDADE)|\n",
      "+------+------------------+\n",
      "|    SC| 35.85145317545748|\n",
      "|    RO|35.515151515151516|\n",
      "|    PI| 37.00729927007299|\n",
      "|    AM| 35.82213438735178|\n",
      "|    RR|23.545454545454547|\n",
      "|    GO| 35.25589836660617|\n",
      "|  null|38.992098935073855|\n",
      "|    TO| 37.05714285714286|\n",
      "|    MT| 35.66554054054054|\n",
      "|    SP|36.169973792978105|\n",
      "|    PB|37.172284644194754|\n",
      "|    ES|  36.7906976744186|\n",
      "|    RS| 37.74193548387097|\n",
      "|    MS| 35.38107416879795|\n",
      "|    AL| 32.14035087719298|\n",
      "|    MG| 36.77768595041322|\n",
      "|    PA| 38.37238493723849|\n",
      "|    BA|  36.4173140954495|\n",
      "|    SE| 37.36974789915966|\n",
      "|    PE|  37.7910284463895|\n",
      "+------+------------------+\n",
      "only showing top 20 rows\n",
      "\n"
     ]
    },
    {
     "name": "stderr",
     "output_type": "stream",
     "text": [
      "                                                                                \r"
     ]
    }
   ],
   "source": [
    "# mostrando average de idade por estado\n",
    "json_pre_tratado.groupby('estado').avg().show()\n",
    "csv_pre_tratado.groupby('estado').avg().show()"
   ]
  },
  {
   "cell_type": "code",
   "execution_count": 6,
   "id": "16336551",
   "metadata": {},
   "outputs": [
    {
     "name": "stdout",
     "output_type": "stream",
     "text": [
      "root\n",
      " |-- ESTADO: string (nullable = true)\n",
      " |-- SEXO: string (nullable = true)\n",
      " |-- IDADE: integer (nullable = true)\n",
      " |-- ASMA: string (nullable = true)\n",
      " |-- CARDIOPATIA: string (nullable = true)\n",
      " |-- DIABETE: string (nullable = true)\n",
      " |-- OBESIDADE: string (nullable = true)\n",
      " |-- SIN_DOWN: string (nullable = true)\n",
      "\n",
      "inserindo azure\n"
     ]
    },
    {
     "name": "stderr",
     "output_type": "stream",
     "text": [
      "                                                                                \r"
     ]
    },
    {
     "name": "stdout",
     "output_type": "stream",
     "text": [
      "Salvo\n"
     ]
    }
   ],
   "source": [
    "#iniciar spark\n",
    "from pyspark import SparkConf\n",
    "from pyspark.sql import SparkSession\n",
    "from pyspark.sql.functions import col\n",
    "from pyspark.sql.types import IntegerType\n",
    "\n",
    "json_pre_tratado.printSchema()\n",
    "print(\"inserindo azure\")\n",
    "json_pre_tratado.write \\\n",
    ".format('com.microsoft.sqlserver.jdbc.spark') \\\n",
    ".mode('overwrite') \\\n",
    ".option('driver', 'com.microsoft.sqlserver.jdbc.SQLServerDriver') \\\n",
    ".option('url', 'jdbc:sqlserver://yuiti.database.windows.net;databaseName=grupo04;') \\\n",
    ".option('dbtable', 'teste2') \\\n",
    ".option('user', 'yuiti') \\\n",
    ".option('password', 'Thiago123') \\\n",
    ".save()\n",
    "print(\"Salvo\")"
   ]
  },
  {
   "cell_type": "code",
   "execution_count": null,
   "id": "40d8a799",
   "metadata": {},
   "outputs": [],
   "source": []
  },
  {
   "cell_type": "code",
   "execution_count": null,
   "id": "2a408a31",
   "metadata": {},
   "outputs": [],
   "source": []
  },
  {
   "cell_type": "code",
   "execution_count": null,
   "id": "13a08f9d",
   "metadata": {},
   "outputs": [],
   "source": []
  },
  {
   "cell_type": "code",
   "execution_count": null,
   "id": "f61b7eea",
   "metadata": {},
   "outputs": [],
   "source": []
  }
 ],
 "metadata": {
  "kernelspec": {
   "display_name": "Python 3 (ipykernel)",
   "language": "python",
   "name": "python3"
  },
  "language_info": {
   "codemirror_mode": {
    "name": "ipython",
    "version": 3
   },
   "file_extension": ".py",
   "mimetype": "text/x-python",
   "name": "python",
   "nbconvert_exporter": "python",
   "pygments_lexer": "ipython3",
   "version": "3.7.10"
  }
 },
 "nbformat": 4,
 "nbformat_minor": 5
}
