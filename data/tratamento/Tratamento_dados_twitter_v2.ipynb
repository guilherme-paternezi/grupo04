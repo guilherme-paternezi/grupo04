{
 "cells": [
  {
   "cell_type": "code",
   "execution_count": 1,
   "id": "b2b8982c",
   "metadata": {},
   "outputs": [
    {
     "name": "stderr",
     "output_type": "stream",
     "text": [
      "WARNING: An illegal reflective access operation has occurred\n",
      "WARNING: Illegal reflective access by org.apache.spark.unsafe.Platform (file:/usr/local/lib/python3.7/site-packages/pyspark/jars/spark-unsafe_2.12-3.2.1.jar) to constructor java.nio.DirectByteBuffer(long,int)\n",
      "WARNING: Please consider reporting this to the maintainers of org.apache.spark.unsafe.Platform\n",
      "WARNING: Use --illegal-access=warn to enable warnings of further illegal reflective access operations\n",
      "WARNING: All illegal access operations will be denied in a future release\n"
     ]
    },
    {
     "name": "stdout",
     "output_type": "stream",
     "text": [
      ":: loading settings :: url = jar:file:/usr/local/lib/python3.7/site-packages/pyspark/jars/ivy-2.5.0.jar!/org/apache/ivy/core/settings/ivysettings.xml\n"
     ]
    },
    {
     "name": "stderr",
     "output_type": "stream",
     "text": [
      "Ivy Default Cache set to: /root/.ivy2/cache\n",
      "The jars for the packages stored in: /root/.ivy2/jars\n",
      "org.apache.hadoop#hadoop-aws added as a dependency\n",
      "com.microsoft.azure#spark-mssql-connector_2.12 added as a dependency\n",
      ":: resolving dependencies :: org.apache.spark#spark-submit-parent-758cdbe2-280f-4970-ae99-a9f2b8c91d97;1.0\n",
      "\tconfs: [default]\n",
      "\tfound org.apache.hadoop#hadoop-aws;3.2.2 in central\n",
      "\tfound com.amazonaws#aws-java-sdk-bundle;1.11.563 in central\n",
      "\tfound com.microsoft.azure#spark-mssql-connector_2.12;1.2.0 in central\n",
      "\tfound com.microsoft.sqlserver#mssql-jdbc;8.4.1.jre8 in central\n",
      ":: resolution report :: resolve 458ms :: artifacts dl 12ms\n",
      "\t:: modules in use:\n",
      "\tcom.amazonaws#aws-java-sdk-bundle;1.11.563 from central in [default]\n",
      "\tcom.microsoft.azure#spark-mssql-connector_2.12;1.2.0 from central in [default]\n",
      "\tcom.microsoft.sqlserver#mssql-jdbc;8.4.1.jre8 from central in [default]\n",
      "\torg.apache.hadoop#hadoop-aws;3.2.2 from central in [default]\n",
      "\t---------------------------------------------------------------------\n",
      "\t|                  |            modules            ||   artifacts   |\n",
      "\t|       conf       | number| search|dwnlded|evicted|| number|dwnlded|\n",
      "\t---------------------------------------------------------------------\n",
      "\t|      default     |   4   |   0   |   0   |   0   ||   4   |   0   |\n",
      "\t---------------------------------------------------------------------\n",
      ":: retrieving :: org.apache.spark#spark-submit-parent-758cdbe2-280f-4970-ae99-a9f2b8c91d97\n",
      "\tconfs: [default]\n",
      "\t0 artifacts copied, 4 already retrieved (0kB/17ms)\n",
      "22/06/07 00:15:16 WARN NativeCodeLoader: Unable to load native-hadoop library for your platform... using builtin-java classes where applicable\n",
      "Using Spark's default log4j profile: org/apache/spark/log4j-defaults.properties\n",
      "Setting default log level to \"WARN\".\n",
      "To adjust logging level use sc.setLogLevel(newLevel). For SparkR, use setLogLevel(newLevel).\n",
      "22/06/07 00:15:22 WARN MetricsConfig: Cannot locate configuration: tried hadoop-metrics2-s3a-file-system.properties,hadoop-metrics2.properties\n",
      "                                                                                \r"
     ]
    },
    {
     "name": "stdout",
     "output_type": "stream",
     "text": [
      "arquivos lidos\n"
     ]
    }
   ],
   "source": [
    "#iniciar spark\n",
    "from pyspark import SparkConf\n",
    "from pyspark.sql import SparkSession\n",
    "from pyspark.sql.functions import col\n",
    "from pyspark.sql.types import IntegerType\n",
    "\n",
    "conf = SparkConf()\n",
    "#conf.set('spark.jars.packages', 'org.apache.hadoop:hadoop-aws:3.2.2')\n",
    "conf.set('spark.jars.packages', 'org.apache.hadoop:hadoop-aws:3.2.2,com.microsoft.azure:spark-mssql-connector_2.12:1.2.0')\n",
    "conf.set('spark.hadoop.fs.s3a.aws.credentials.provider', 'com.amazonaws.auth.InstanceProfileCredentialsProvider')\n",
    "spark = SparkSession.builder.config(conf=conf).getOrCreate()\n",
    "\n",
    "arquivo_tweets = spark.read.option('delimiter', ';').option('header', 'true').csv('s3a://stc-grupo04-henrique-sptech-data-transform/coronaVirus.csv')\n",
    "print('arquivos lidos')"
   ]
  },
  {
   "cell_type": "code",
   "execution_count": 2,
   "id": "0da537f0",
   "metadata": {},
   "outputs": [],
   "source": [
    "#Gerando tabela p/ word Cloud\n",
    "\n",
    "import pyspark.sql.functions as f\n",
    "\n",
    "# count_palavras_1=arquivo_tweets.withColumn('palavra', f.explode(f.split(f.col('Tweet'), ' ')))\\\n",
    "#     .groupBy('palavra')\\\n",
    "#     .count()\\\n",
    "#     .sort('count', ascending=False)\\\n",
    "#     .filter(col('palavra').isin('',\n",
    "#                                 'corona',\n",
    "#                                 'virus',\n",
    "#                                 'corona',\n",
    "#                                 'Corona',\n",
    "#                                 'Virus',\n",
    "#                                 'covid',\n",
    "#                                 'covid19',\n",
    "#                                 'Covid',\n",
    "#                                 'covid19',\n",
    "#                                 'covid-19')==False)\n",
    "\n",
    "count_palavras_1=arquivo_tweets\\\n",
    "    .withColumn('palavra', f.explode(f.split(f.col('Tweet'), ' ')))\\\n",
    "    .withColumn('ajustado', f.when(col('palavra').isin('corona',\n",
    "                                'virus',\n",
    "                                'corona',\n",
    "                                'Corona',\n",
    "                                'Covid-19',\n",
    "                                'Coronga',\n",
    "                                'covid',\n",
    "                                'covid19',\n",
    "                                'Covid',\n",
    "                                'covid19',\n",
    "                                'covid-19',\n",
    "                                'covid2019'),'CORONA')\\\n",
    "                            .otherwise(col('palavra')))\\\n",
    "    .groupBy('ajustado')\\\n",
    "    .count()\\\n",
    "    .sort('count', ascending=False)\\\n",
    "    .filter(col('ajustado').isin('')==False)\\\n",
    "    .withColumn('data_inserção',f.current_timestamp())"
   ]
  },
  {
   "cell_type": "code",
   "execution_count": 3,
   "id": "91a59b12",
   "metadata": {},
   "outputs": [],
   "source": [
    "#criando Data Fream\n",
    "base_tweets_brutos=arquivo_tweets.select(\n",
    "    col('Tweet'),\n",
    "    col('Date'),\n",
    "    col('Source')\n",
    ").withColumn('id_tweet',f.monotonically_increasing_id())"
   ]
  },
  {
   "cell_type": "code",
   "execution_count": 4,
   "id": "79f6277e",
   "metadata": {},
   "outputs": [
    {
     "name": "stderr",
     "output_type": "stream",
     "text": [
      "22/06/07 00:15:31 WARN AbstractS3ACommitterFactory: Using standard FileOutputCommitter to commit work. This is slow and potentially unsafe.\n",
      "22/06/07 00:15:34 WARN AbstractS3ACommitterFactory: Using standard FileOutputCommitter to commit work. This is slow and potentially unsafe.\n",
      "22/06/07 00:15:36 WARN AbstractS3ACommitterFactory: Using standard FileOutputCommitter to commit work. This is slow and potentially unsafe.\n",
      "22/06/07 00:15:37 WARN AbstractS3ACommitterFactory: Using standard FileOutputCommitter to commit work. This is slow and potentially unsafe.\n",
      "                                                                                \r"
     ]
    }
   ],
   "source": [
    "#Salvando S3 estado_IDH\n",
    "count_palavras_1.write.mode('append').option(\"header\", \"true\").csv('s3a://stc-grupo04-henrique-sptech-data-final/count_palavras_tweets.csv/')\n",
    "\n",
    "#Salvando S3 tweets brutos\n",
    "base_tweets_brutos.write.mode('append').option(\"header\", \"true\").csv('s3a://stc-grupo04-henrique-sptech-data-final/base_tweets_brutos.csv/')"
   ]
  },
  {
   "cell_type": "code",
   "execution_count": 10,
   "id": "63c53b3f",
   "metadata": {},
   "outputs": [
    {
     "name": "stdout",
     "output_type": "stream",
     "text": [
      "inserindo azure\n"
     ]
    },
    {
     "name": "stderr",
     "output_type": "stream",
     "text": [
      "                                                                                \r"
     ]
    }
   ],
   "source": [
    "#Salvando Azure - WordCloud\n",
    "print(\"inserindo azure\")\n",
    "# count_palavras_1.write \\\n",
    "# .format('com.microsoft.sqlserver.jdbc.spark') \\\n",
    "# .mode('overwrite') \\\n",
    "# .option('driver', 'com.microsoft.sqlserver.jdbc.SQLServerDriver') \\\n",
    "# .option('url', 'jdbc:sqlserver://servidor-grupo04.database.windows.net;databaseName=grupo04;') \\\n",
    "# .option('dbtable', 'table_count_tweets') \\\n",
    "# .option('user', 'urubu100') \\\n",
    "# .option('password', 'Urubu1@@') \\\n",
    "# .save()\n",
    "# print(\"Tabela por caso salva\")\n",
    "\n",
    "base_tweets_brutos.write \\\n",
    ".format('com.microsoft.sqlserver.jdbc.spark') \\\n",
    ".mode('overwrite') \\\n",
    ".option('driver', 'com.microsoft.sqlserver.jdbc.SQLServerDriver') \\\n",
    ".option('url', 'jdbc:sqlserver://yuiti.database.windows.net;databaseName=grupo04;') \\\n",
    ".option('dbtable', 'table_raw_tweets') \\\n",
    ".option('user', 'yuiti') \\\n",
    ".option('password', 'Thiago123') \\\n",
    ".save()\n",
    "\n",
    "# #Salvando Azure - tweets brutos\n",
    "# print(\"inserindo azure\")\n",
    "# base_tweets_brutos.write \\\n",
    "# .format('com.microsoft.sqlserver.jdbc.spark') \\\n",
    "# .mode('overwrite') \\\n",
    "# .option('driver', 'com.microsoft.sqlserver.jdbc.SQLServerDriver') \\\n",
    "# .option('url', 'jdbc:sqlserver://servidor-grupo04.database.windows.net;databaseName=grupo04;') \\\n",
    "# .option('dbtable', 'table_raw_tweets') \\\n",
    "# .option('user', 'urubu100') \\\n",
    "# .option('password', 'Urubu1@@') \\\n",
    "# .save()\n",
    "# print(\"Tabela por caso salva\")\n"
   ]
  },
  {
   "cell_type": "code",
   "execution_count": null,
   "id": "78436f97",
   "metadata": {},
   "outputs": [],
   "source": []
  }
 ],
 "metadata": {
  "kernelspec": {
   "display_name": "Python 3 (ipykernel)",
   "language": "python",
   "name": "python3"
  },
  "language_info": {
   "codemirror_mode": {
    "name": "ipython",
    "version": 3
   },
   "file_extension": ".py",
   "mimetype": "text/x-python",
   "name": "python",
   "nbconvert_exporter": "python",
   "pygments_lexer": "ipython3",
   "version": "3.7.10"
  }
 },
 "nbformat": 4,
 "nbformat_minor": 5
}
