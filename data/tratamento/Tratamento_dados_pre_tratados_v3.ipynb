{
 "cells": [
  {
   "cell_type": "code",
   "execution_count": 1,
   "id": "b167da82",
   "metadata": {},
   "outputs": [
    {
     "name": "stderr",
     "output_type": "stream",
     "text": [
      "WARNING: An illegal reflective access operation has occurred\n",
      "WARNING: Illegal reflective access by org.apache.spark.unsafe.Platform (file:/usr/local/lib/python3.7/site-packages/pyspark/jars/spark-unsafe_2.12-3.2.1.jar) to constructor java.nio.DirectByteBuffer(long,int)\n",
      "WARNING: Please consider reporting this to the maintainers of org.apache.spark.unsafe.Platform\n",
      "WARNING: Use --illegal-access=warn to enable warnings of further illegal reflective access operations\n",
      "WARNING: All illegal access operations will be denied in a future release\n"
     ]
    },
    {
     "name": "stdout",
     "output_type": "stream",
     "text": [
      ":: loading settings :: url = jar:file:/usr/local/lib/python3.7/site-packages/pyspark/jars/ivy-2.5.0.jar!/org/apache/ivy/core/settings/ivysettings.xml\n"
     ]
    },
    {
     "name": "stderr",
     "output_type": "stream",
     "text": [
      "Ivy Default Cache set to: /root/.ivy2/cache\n",
      "The jars for the packages stored in: /root/.ivy2/jars\n",
      "org.apache.hadoop#hadoop-aws added as a dependency\n",
      "com.microsoft.azure#spark-mssql-connector_2.12 added as a dependency\n",
      ":: resolving dependencies :: org.apache.spark#spark-submit-parent-1fd299f6-ef28-4489-a3e1-facf7c7626bb;1.0\n",
      "\tconfs: [default]\n",
      "\tfound org.apache.hadoop#hadoop-aws;3.2.2 in central\n",
      "\tfound com.amazonaws#aws-java-sdk-bundle;1.11.563 in central\n",
      "\tfound com.microsoft.azure#spark-mssql-connector_2.12;1.2.0 in central\n",
      "\tfound com.microsoft.sqlserver#mssql-jdbc;8.4.1.jre8 in central\n",
      ":: resolution report :: resolve 414ms :: artifacts dl 13ms\n",
      "\t:: modules in use:\n",
      "\tcom.amazonaws#aws-java-sdk-bundle;1.11.563 from central in [default]\n",
      "\tcom.microsoft.azure#spark-mssql-connector_2.12;1.2.0 from central in [default]\n",
      "\tcom.microsoft.sqlserver#mssql-jdbc;8.4.1.jre8 from central in [default]\n",
      "\torg.apache.hadoop#hadoop-aws;3.2.2 from central in [default]\n",
      "\t---------------------------------------------------------------------\n",
      "\t|                  |            modules            ||   artifacts   |\n",
      "\t|       conf       | number| search|dwnlded|evicted|| number|dwnlded|\n",
      "\t---------------------------------------------------------------------\n",
      "\t|      default     |   4   |   0   |   0   |   0   ||   4   |   0   |\n",
      "\t---------------------------------------------------------------------\n",
      ":: retrieving :: org.apache.spark#spark-submit-parent-1fd299f6-ef28-4489-a3e1-facf7c7626bb\n",
      "\tconfs: [default]\n",
      "\t0 artifacts copied, 4 already retrieved (0kB/9ms)\n",
      "22/05/31 01:09:54 WARN NativeCodeLoader: Unable to load native-hadoop library for your platform... using builtin-java classes where applicable\n",
      "Using Spark's default log4j profile: org/apache/spark/log4j-defaults.properties\n",
      "Setting default log level to \"WARN\".\n",
      "To adjust logging level use sc.setLogLevel(newLevel). For SparkR, use setLogLevel(newLevel).\n",
      "22/05/31 01:09:59 WARN MetricsConfig: Cannot locate configuration: tried hadoop-metrics2-s3a-file-system.properties,hadoop-metrics2.properties\n"
     ]
    },
    {
     "name": "stdout",
     "output_type": "stream",
     "text": [
      "arquivos lidos\n"
     ]
    }
   ],
   "source": [
    "#iniciar spark\n",
    "from pyspark import SparkConf\n",
    "from pyspark.sql import SparkSession\n",
    "from pyspark.sql.functions import col\n",
    "from pyspark.sql.types import IntegerType\n",
    "\n",
    "conf = SparkConf()\n",
    "#conf.set('spark.jars.packages', 'org.apache.hadoop:hadoop-aws:3.2.2')\n",
    "conf.set('spark.jars.packages', 'org.apache.hadoop:hadoop-aws:3.2.2,com.microsoft.azure:spark-mssql-connector_2.12:1.2.0')\n",
    "conf.set('spark.hadoop.fs.s3a.aws.credentials.provider', 'com.amazonaws.auth.InstanceProfileCredentialsProvider')\n",
    "spark = SparkSession.builder.config(conf=conf).getOrCreate()\n",
    "\n",
    "arquivo_todos_csv = spark.read.option('delimiter', ',').option('header', 'true').csv('s3a://stc-grupo04-henrique-sptech-data-transform/preTratedCsv.csv/part-0000[0-3]-11b1c6d7-1ac5-4469-bdaa-adb68ed234ae-c000.csv')\n",
    "arquivo_todos_json = spark.read.option('delimiter', ',').option('header', 'true').csv('s3a://stc-grupo04-henrique-sptech-data-transform/preTratedJson.csv/part-0000[0-4]-bc735acd-498d-4217-8f2f-29d5dbf13433-c000.csv')\n",
    "arquivo_todos_txt = spark.read.option('delimiter', ',').option('header', 'true').csv('s3a://stc-grupo04-henrique-sptech-data-transform/preTratedTxt.csv/part-00000-13f5c5fb-d0de-412a-9471-1595218a4ff6-c000.csv')\n",
    "print('arquivos lidos')"
   ]
  },
  {
   "cell_type": "code",
   "execution_count": 2,
   "id": "83f2124a",
   "metadata": {},
   "outputs": [
    {
     "name": "stderr",
     "output_type": "stream",
     "text": [
      "                                                                                \r"
     ]
    },
    {
     "name": "stdout",
     "output_type": "stream",
     "text": [
      "1000000\n"
     ]
    },
    {
     "name": "stderr",
     "output_type": "stream",
     "text": [
      "                                                                                \r"
     ]
    },
    {
     "name": "stdout",
     "output_type": "stream",
     "text": [
      "1000001\n",
      "28\n"
     ]
    }
   ],
   "source": [
    "print(arquivo_todos_csv.count())\n",
    "print(arquivo_todos_json.count())\n",
    "print(arquivo_todos_txt.count())"
   ]
  },
  {
   "cell_type": "code",
   "execution_count": 3,
   "id": "cf8b0a54",
   "metadata": {},
   "outputs": [
    {
     "name": "stdout",
     "output_type": "stream",
     "text": [
      "root\n",
      " |-- ESTADO: string (nullable = true)\n",
      " |-- SEXO: string (nullable = true)\n",
      " |-- IDADE: string (nullable = true)\n",
      " |-- ETNIA: string (nullable = true)\n",
      " |-- EVOLUCAO_CASO: string (nullable = true)\n",
      " |-- PRIMEIRA_DOSE: string (nullable = true)\n",
      " |-- SEGUNDA_DOSE: string (nullable = true)\n",
      "\n",
      "root\n",
      " |-- ESTADO: string (nullable = true)\n",
      " |-- SEXO: string (nullable = true)\n",
      " |-- IDADE: string (nullable = true)\n",
      " |-- ASMA: string (nullable = true)\n",
      " |-- CARDIOPATIA: string (nullable = true)\n",
      " |-- DIABETE: string (nullable = true)\n",
      " |-- OBESIDADE: string (nullable = true)\n",
      " |-- SIN_DOWN: string (nullable = true)\n",
      "\n",
      "root\n",
      " |-- TERRITORIALIDADES: string (nullable = true)\n",
      " |-- MEDIA_ANOS_ESTUDOS: string (nullable = true)\n",
      " |-- INDICE_EDUCACAO: string (nullable = true)\n",
      " |-- LONGEVIDADE: string (nullable = true)\n",
      " |-- RENDA: string (nullable = true)\n",
      " |-- IDH: string (nullable = true)\n",
      "\n"
     ]
    }
   ],
   "source": [
    "arquivo_todos_csv.printSchema()\n",
    "arquivo_todos_json.printSchema()\n",
    "arquivo_todos_txt.printSchema()"
   ]
  },
  {
   "cell_type": "code",
   "execution_count": 8,
   "id": "d7720aad",
   "metadata": {},
   "outputs": [
    {
     "name": "stderr",
     "output_type": "stream",
     "text": [
      "                                                                                \r"
     ]
    },
    {
     "name": "stdout",
     "output_type": "stream",
     "text": [
      "970888\n"
     ]
    },
    {
     "name": "stderr",
     "output_type": "stream",
     "text": [
      "[Stage 15:>                                                         (0 + 2) / 2]\r"
     ]
    },
    {
     "name": "stdout",
     "output_type": "stream",
     "text": [
      "66730\n"
     ]
    },
    {
     "name": "stderr",
     "output_type": "stream",
     "text": [
      "                                                                                \r"
     ]
    }
   ],
   "source": [
    "#limpar registros em branco (se tiver mesmo)\n",
    "#arquivo_semi_csv=arquivo_todos_csv.filter(col(\"ESTADO\") != \"\")\n",
    "\n",
    "from pyspark.sql.functions import concat\n",
    "\n",
    "\n",
    "arquivo_semi_csv_1=(arquivo_todos_csv.select(\n",
    "    col('ESTADO').alias('ESTADO_csv'),\n",
    "    col('SEXO').alias('SEXO_csv'),\n",
    "    col('IDADE').cast(IntegerType()).alias('IDADE_csv'),\n",
    "    col('ETNIA'),\n",
    "    col('EVOLUCAO_CASO'),\n",
    "    col('PRIMEIRA_DOSE'),\n",
    "    col('SEGUNDA_DOSE')\n",
    ")).filter(col(\"ESTADO\") != \"\").filter(col(\"SEXO\")!= \"\").filter(col(\"IDADE\")!= \"\") #verificação essencial \n",
    "#.filter(col(\"ETNIA\")!= \"\").filter(col(\"EVOLUCAO_CASO\")!= \"\")   #verificação opcionais(personalizar tabela)\n",
    "\n",
    "\n",
    "\n",
    "\n",
    "arquivo_semi_json=arquivo_todos_json.filter(col(\"ESTADO\") != \"\").filter(col(\"SEXO\")!= \"\").filter(col(\"IDADE\")!= \"\") #verificação essencial\n",
    ".filter(concat(col('ASMA'),col('CARDIOPATIA'),col('DIABETE'),col('OBESIDADE'),col('SIN_DOWN')).like(\"%SIM%\"))       #verificação opcional\n",
    "\n",
    "print(arquivo_semi_csv_1.count())\n",
    "print(arquivo_semi_json.count())"
   ]
  },
  {
   "cell_type": "code",
   "execution_count": 10,
   "id": "843db3ff",
   "metadata": {},
   "outputs": [],
   "source": [
    "from pyspark.sql.functions import upper \n",
    "\n",
    "join_csv_json = arquivo_semi_json.join(arquivo_semi_csv_1,((arquivo_semi_json.ESTADO==arquivo_semi_csv_1.ESTADO_csv) & \n",
    "                                                          (arquivo_semi_json.SEXO==upper(arquivo_semi_csv_1.SEXO_csv)) &\n",
    "                                                          (arquivo_semi_json.IDADE==arquivo_semi_csv_1.IDADE_csv)\n",
    "                                                          & (arquivo_semi_json.ESTADO==\"SP\")  #Opcional (Personalizavel)\n",
    "                                                          ),\"inner\")\n",
    "\n"
   ]
  },
  {
   "cell_type": "code",
   "execution_count": 11,
   "id": "2cf376bd",
   "metadata": {
    "scrolled": true
   },
   "outputs": [
    {
     "name": "stdout",
     "output_type": "stream",
     "text": [
      "root\n",
      " |-- ESTADO: string (nullable = true)\n",
      " |-- SEXO: string (nullable = true)\n",
      " |-- IDADE: string (nullable = true)\n",
      " |-- ASMA: string (nullable = true)\n",
      " |-- CARDIOPATIA: string (nullable = true)\n",
      " |-- DIABETE: string (nullable = true)\n",
      " |-- OBESIDADE: string (nullable = true)\n",
      " |-- SIN_DOWN: string (nullable = true)\n",
      " |-- ESTADO_csv: string (nullable = true)\n",
      " |-- SEXO_csv: string (nullable = true)\n",
      " |-- IDADE_csv: integer (nullable = true)\n",
      " |-- ETNIA: string (nullable = true)\n",
      " |-- EVOLUCAO_CASO: string (nullable = true)\n",
      " |-- PRIMEIRA_DOSE: string (nullable = true)\n",
      " |-- SEGUNDA_DOSE: string (nullable = true)\n",
      "\n"
     ]
    }
   ],
   "source": [
    "join_csv_json.printSchema()"
   ]
  },
  {
   "cell_type": "code",
   "execution_count": 12,
   "id": "29e99729",
   "metadata": {},
   "outputs": [],
   "source": [
    "#limpando coluna ESTADO SEXO IDADE duplicada\n",
    "join_csv_json_final = join_csv_json.select(\n",
    "    col('ESTADO'),\n",
    "    col('SEXO'),\n",
    "    col('IDADE'),\n",
    "    col('ETNIA'),\n",
    "    col('ASMA'),\n",
    "    col('CARDIOPATIA'),\n",
    "    col('DIABETE'),\n",
    "    col('SIN_DOWN'),\n",
    "    col('EVOLUCAO_CASO'),\n",
    "    col('PRIMEIRA_DOSE'),\n",
    "    col('SEGUNDA_DOSE')\n",
    ").limit(1000000)"
   ]
  },
  {
   "cell_type": "code",
   "execution_count": 13,
   "id": "47a654c9",
   "metadata": {},
   "outputs": [
    {
     "name": "stderr",
     "output_type": "stream",
     "text": [
      "[Stage 19:======================================>                   (2 + 1) / 3]\r"
     ]
    },
    {
     "name": "stdout",
     "output_type": "stream",
     "text": [
      "1000000\n"
     ]
    },
    {
     "name": "stderr",
     "output_type": "stream",
     "text": [
      "                                                                                \r"
     ]
    }
   ],
   "source": [
    "type(join_csv_json_final)\n",
    "print(join_csv_json_final.count())"
   ]
  },
  {
   "cell_type": "code",
   "execution_count": 14,
   "id": "43b832f2",
   "metadata": {},
   "outputs": [
    {
     "name": "stderr",
     "output_type": "stream",
     "text": [
      "22/05/31 01:13:54 WARN AbstractS3ACommitterFactory: Using standard FileOutputCommitter to commit work. This is slow and potentially unsafe.\n",
      "22/05/31 01:14:03 WARN AbstractS3ACommitterFactory: Using standard FileOutputCommitter to commit work. This is slow and potentially unsafe.\n",
      "                                                                                \r"
     ]
    }
   ],
   "source": [
    "#Salvando S3\n",
    "join_csv_json_final.write.mode('overwrite').option(\"header\", \"true\").csv('s3a://stc-grupo04-henrique-sptech-data-final/trated1.csv')"
   ]
  },
  {
   "cell_type": "code",
   "execution_count": 17,
   "id": "0d013062",
   "metadata": {},
   "outputs": [
    {
     "name": "stdout",
     "output_type": "stream",
     "text": [
      "inserindo azure\n"
     ]
    },
    {
     "name": "stderr",
     "output_type": "stream",
     "text": [
      "                                                                                \r"
     ]
    },
    {
     "name": "stdout",
     "output_type": "stream",
     "text": [
      "Salvo\n"
     ]
    }
   ],
   "source": [
    "#Salvando Azure\n",
    "print(\"inserindo azure\")\n",
    "join_csv_json_final.write \\\n",
    ".format('com.microsoft.sqlserver.jdbc.spark') \\\n",
    ".mode('overwrite') \\\n",
    ".option('driver', 'com.microsoft.sqlserver.jdbc.SQLServerDriver') \\\n",
    ".option('url', 'jdbc:sqlserver://servidor-grupo04.database.windows.net;databaseName=grupo04;') \\\n",
    ".option('dbtable', 'sp_join_csv_json') \\\n",
    ".option('user', 'urubu100') \\\n",
    ".option('password', 'Urubu1@@') \\\n",
    ".save()\n",
    "print(\"Salvo\")"
   ]
  },
  {
   "cell_type": "code",
   "execution_count": null,
   "id": "6e587382",
   "metadata": {},
   "outputs": [],
   "source": []
  }
 ],
 "metadata": {
  "kernelspec": {
   "display_name": "Python 3 (ipykernel)",
   "language": "python",
   "name": "python3"
  },
  "language_info": {
   "codemirror_mode": {
    "name": "ipython",
    "version": 3
   },
   "file_extension": ".py",
   "mimetype": "text/x-python",
   "name": "python",
   "nbconvert_exporter": "python",
   "pygments_lexer": "ipython3",
   "version": "3.7.10"
  }
 },
 "nbformat": 4,
 "nbformat_minor": 5
}
