{
 "cells": [
  {
   "cell_type": "code",
   "execution_count": 2,
   "id": "b167da82",
   "metadata": {},
   "outputs": [
    {
     "name": "stdout",
     "output_type": "stream",
     "text": [
      "arquivos lidos\n"
     ]
    }
   ],
   "source": [
    "#iniciar spark\n",
    "from pyspark import SparkConf\n",
    "from pyspark.sql import SparkSession\n",
    "from pyspark.sql.functions import col\n",
    "from pyspark.sql.types import IntegerType\n",
    "\n",
    "conf = SparkConf()\n",
    "#conf.set('spark.jars.packages', 'org.apache.hadoop:hadoop-aws:3.2.2')\n",
    "conf.set('spark.jars.packages', 'org.apache.hadoop:hadoop-aws:3.2.2,com.microsoft.azure:spark-mssql-connector_2.12:1.2.0')\n",
    "conf.set('spark.hadoop.fs.s3a.aws.credentials.provider', 'com.amazonaws.auth.InstanceProfileCredentialsProvider')\n",
    "spark = SparkSession.builder.config(conf=conf).getOrCreate()\n",
    "\n",
    "arquivo_todos_csv = spark.read.option('delimiter', ',').option('header', 'true').csv('s3a://stc-grupo04-henrique-sptech-data-transform/preTratedCsv.csv/part-0000[0-3]-11b1c6d7-1ac5-4469-bdaa-adb68ed234ae-c000.csv')\n",
    "arquivo_todos_json = spark.read.option('delimiter', ',').option('header', 'true').csv('s3a://stc-grupo04-henrique-sptech-data-transform/preTratedJson.csv/part-0000[0-4]-bc735acd-498d-4217-8f2f-29d5dbf13433-c000.csv')\n",
    "arquivo_todos_txt = spark.read.option('delimiter', ',').option('header', 'true').csv('s3a://stc-grupo04-henrique-sptech-data-transform/preTratedTxt.csv/part-00000-13f5c5fb-d0de-412a-9471-1595218a4ff6-c000.csv')\n",
    "print('arquivos lidos')"
   ]
  },
  {
   "cell_type": "code",
   "execution_count": 4,
   "id": "83f2124a",
   "metadata": {},
   "outputs": [
    {
     "name": "stderr",
     "output_type": "stream",
     "text": [
      "                                                                                \r"
     ]
    },
    {
     "name": "stdout",
     "output_type": "stream",
     "text": [
      "1000000\n"
     ]
    },
    {
     "name": "stderr",
     "output_type": "stream",
     "text": [
      "                                                                                \r"
     ]
    },
    {
     "name": "stdout",
     "output_type": "stream",
     "text": [
      "1000001\n",
      "28\n"
     ]
    }
   ],
   "source": [
    "print(arquivo_todos_csv.count())\n",
    "print(arquivo_todos_json.count())\n",
    "print(arquivo_todos_txt.count())"
   ]
  },
  {
   "cell_type": "code",
   "execution_count": 3,
   "id": "cf8b0a54",
   "metadata": {},
   "outputs": [
    {
     "name": "stdout",
     "output_type": "stream",
     "text": [
      "root\n",
      " |-- ESTADO: string (nullable = true)\n",
      " |-- SEXO: string (nullable = true)\n",
      " |-- IDADE: string (nullable = true)\n",
      " |-- ETNIA: string (nullable = true)\n",
      " |-- EVOLUCAO_CASO: string (nullable = true)\n",
      " |-- PRIMEIRA_DOSE: string (nullable = true)\n",
      " |-- SEGUNDA_DOSE: string (nullable = true)\n",
      "\n",
      "root\n",
      " |-- ESTADO: string (nullable = true)\n",
      " |-- SEXO: string (nullable = true)\n",
      " |-- IDADE: string (nullable = true)\n",
      " |-- ASMA: string (nullable = true)\n",
      " |-- CARDIOPATIA: string (nullable = true)\n",
      " |-- DIABETE: string (nullable = true)\n",
      " |-- OBESIDADE: string (nullable = true)\n",
      " |-- SIN_DOWN: string (nullable = true)\n",
      "\n",
      "root\n",
      " |-- TERRITORIALIDADES: string (nullable = true)\n",
      " |-- MEDIA_ANOS_ESTUDOS: string (nullable = true)\n",
      " |-- INDICE_EDUCACAO: string (nullable = true)\n",
      " |-- LONGEVIDADE: string (nullable = true)\n",
      " |-- RENDA: string (nullable = true)\n",
      " |-- IDH: string (nullable = true)\n",
      "\n"
     ]
    }
   ],
   "source": [
    "arquivo_todos_csv.printSchema()\n",
    "arquivo_todos_json.printSchema()\n",
    "arquivo_todos_txt.printSchema()"
   ]
  },
  {
   "cell_type": "code",
   "execution_count": 5,
   "id": "d7720aad",
   "metadata": {},
   "outputs": [
    {
     "name": "stderr",
     "output_type": "stream",
     "text": [
      "                                                                                \r"
     ]
    },
    {
     "name": "stdout",
     "output_type": "stream",
     "text": [
      "970888\n"
     ]
    },
    {
     "name": "stderr",
     "output_type": "stream",
     "text": [
      "\r\n",
      "[Stage 27:>                                                         (0 + 2) / 2]\r"
     ]
    },
    {
     "name": "stdout",
     "output_type": "stream",
     "text": [
      "936522\n"
     ]
    },
    {
     "name": "stderr",
     "output_type": "stream",
     "text": [
      "\r\n",
      "                                                                                \r"
     ]
    }
   ],
   "source": [
    "#limpar registros em branco (se tiver mesmo)\n",
    "\n",
    "from pyspark.sql.functions import concat\n",
    "\n",
    "arquivo_semi_csv_1=(arquivo_todos_csv.select(\n",
    "    col('ESTADO').alias('ESTADO_csv'),\n",
    "    col('SEXO').alias('SEXO_csv'),\n",
    "    col('IDADE').cast(IntegerType()).alias('IDADE_csv'),\n",
    "    col('ETNIA'),\n",
    "    col('EVOLUCAO_CASO'),\n",
    "    col('PRIMEIRA_DOSE'),\n",
    "    col('SEGUNDA_DOSE')\n",
    ")).filter(col(\"ESTADO\") != \"\").filter(col(\"SEXO\")!= \"\").filter(col(\"IDADE\")!= \"\") \n",
    "\n",
    "arquivo_semi_json=arquivo_todos_json.filter(col(\"ESTADO\") != \"\").filter(col(\"SEXO\")!= \"\").filter(col(\"IDADE\")!= \"\")\n",
    "\n",
    "print(arquivo_semi_csv_1.count())\n",
    "print(arquivo_semi_json.count())"
   ]
  },
  {
   "cell_type": "code",
   "execution_count": 6,
   "id": "8c7411a9",
   "metadata": {},
   "outputs": [],
   "source": [
    "#Criando identificador único para realizar a junção das bases (CSV e JSON)\n",
    "\n",
    "from pyspark.sql.window import *\n",
    "from pyspark.sql.functions import row_number\n",
    "\n",
    "arquivo_semi_csv_2=arquivo_semi_csv_1.withColumn(\"row_num\", row_number().over(Window.partitionBy(\"ESTADO_csv\",\"SEXO_csv\",\"IDADE_csv\").orderBy(\"IDADE_csv\")))\n",
    "arquivo_semi_json_2=arquivo_semi_json.withColumn(\"row_num\", row_number().over(Window.partitionBy(\"ESTADO\",\"SEXO\",\"IDADE\").orderBy(\"IDADE\")))"
   ]
  },
  {
   "cell_type": "code",
   "execution_count": 7,
   "id": "843db3ff",
   "metadata": {},
   "outputs": [],
   "source": [
    "from pyspark.sql.functions import upper \n",
    "\n",
    "join_csv_json = arquivo_semi_json_2.join(arquivo_semi_csv_2,((arquivo_semi_json_2.ESTADO==arquivo_semi_csv_2.ESTADO_csv) & \n",
    "                                                          (arquivo_semi_json_2.SEXO==upper(arquivo_semi_csv_2.SEXO_csv)) &\n",
    "                                                          (arquivo_semi_json_2.IDADE==arquivo_semi_csv_2.IDADE_csv) &\n",
    "                                                          (arquivo_semi_json_2.row_num==arquivo_semi_csv_2.row_num)\n",
    "                                                          ),\"inner\")\n",
    "\n"
   ]
  },
  {
   "cell_type": "code",
   "execution_count": 8,
   "id": "2cf376bd",
   "metadata": {
    "scrolled": true
   },
   "outputs": [
    {
     "name": "stdout",
     "output_type": "stream",
     "text": [
      "root\n",
      " |-- ESTADO: string (nullable = true)\n",
      " |-- SEXO: string (nullable = true)\n",
      " |-- IDADE: string (nullable = true)\n",
      " |-- ASMA: string (nullable = true)\n",
      " |-- CARDIOPATIA: string (nullable = true)\n",
      " |-- DIABETE: string (nullable = true)\n",
      " |-- OBESIDADE: string (nullable = true)\n",
      " |-- SIN_DOWN: string (nullable = true)\n",
      " |-- row_num: integer (nullable = false)\n",
      " |-- ESTADO_csv: string (nullable = true)\n",
      " |-- SEXO_csv: string (nullable = true)\n",
      " |-- IDADE_csv: integer (nullable = true)\n",
      " |-- ETNIA: string (nullable = true)\n",
      " |-- EVOLUCAO_CASO: string (nullable = true)\n",
      " |-- PRIMEIRA_DOSE: string (nullable = true)\n",
      " |-- SEGUNDA_DOSE: string (nullable = true)\n",
      " |-- row_num: integer (nullable = false)\n",
      "\n"
     ]
    }
   ],
   "source": [
    "join_csv_json.printSchema()"
   ]
  },
  {
   "cell_type": "code",
   "execution_count": 9,
   "id": "7ac4ef60",
   "metadata": {},
   "outputs": [
    {
     "name": "stderr",
     "output_type": "stream",
     "text": [
      "[Stage 40:>                                                         (0 + 1) / 1]\r"
     ]
    },
    {
     "name": "stdout",
     "output_type": "stream",
     "text": [
      "+------+---------+-----+--------+-----------+--------+---------+--------+-------+----------+---------+---------+--------+-------------+-------------------+-------------------+-------+\n",
      "|ESTADO|     SEXO|IDADE|    ASMA|CARDIOPATIA| DIABETE|OBESIDADE|SIN_DOWN|row_num|ESTADO_csv| SEXO_csv|IDADE_csv|   ETNIA|EVOLUCAO_CASO|      PRIMEIRA_DOSE|       SEGUNDA_DOSE|row_num|\n",
      "+------+---------+-----+--------+-----------+--------+---------+--------+-------+----------+---------+---------+--------+-------------+-------------------+-------------------+-------+\n",
      "|    AC| FEMININO|   27|IGNORADO|   IGNORADO|IGNORADO| IGNORADO|IGNORADO|      1|        AC| Feminino|       27|Ignorado|         null|   SINOVAC/BUTANTAN|   SINOVAC/BUTANTAN|      1|\n",
      "|    AC| FEMININO|   28|IGNORADO|   IGNORADO|IGNORADO| IGNORADO|IGNORADO|      1|        AC| Feminino|       28|  Branca|         Cura|ASTRAZENECA/FIOCRUZ|ASTRAZENECA/FIOCRUZ|      1|\n",
      "|    AC| FEMININO|   31|IGNORADO|   IGNORADO|IGNORADO| IGNORADO|IGNORADO|      2|        AC| Feminino|       31|  Branca|         null|             PFIZER|               null|      2|\n",
      "|    AC| FEMININO|   36|IGNORADO|   IGNORADO|IGNORADO| IGNORADO|IGNORADO|      1|        AC| Feminino|       36|  Branca|         null|             PFIZER|               null|      1|\n",
      "|    AC| FEMININO|   40|IGNORADO|   IGNORADO|IGNORADO| IGNORADO|IGNORADO|      1|        AC| Feminino|       40|Ignorado|         null|ASTRAZENECA/FIOCRUZ|ASTRAZENECA/FIOCRUZ|      1|\n",
      "|    AC| FEMININO|   45|IGNORADO|   IGNORADO|IGNORADO| IGNORADO|IGNORADO|      1|        AC| Feminino|       45|   Parda|         Cura|               null|               null|      1|\n",
      "|    AC| FEMININO|   58|IGNORADO|   IGNORADO|IGNORADO| IGNORADO|IGNORADO|      2|        AC| Feminino|       58|  Branca|         null|ASTRAZENECA/FIOCRUZ|ASTRAZENECA/FIOCRUZ|      2|\n",
      "|    AC|MASCULINO|   29|IGNORADO|   IGNORADO|IGNORADO| IGNORADO|IGNORADO|      1|        AC|Masculino|       29|   Parda|         null|               null|               null|      1|\n",
      "|    AC|MASCULINO|   31|IGNORADO|   IGNORADO|IGNORADO| IGNORADO|IGNORADO|      1|        AC|Masculino|       31|  Branca|         null|   SINOVAC/BUTANTAN|             PFIZER|      1|\n",
      "|    AC|MASCULINO|   36|IGNORADO|   IGNORADO|IGNORADO| IGNORADO|IGNORADO|      1|        AC|Masculino|       36|  Branca|         null|ASTRAZENECA/FIOCRUZ|ASTRAZENECA/FIOCRUZ|      1|\n",
      "+------+---------+-----+--------+-----------+--------+---------+--------+-------+----------+---------+---------+--------+-------------+-------------------+-------------------+-------+\n",
      "only showing top 10 rows\n",
      "\n"
     ]
    },
    {
     "name": "stderr",
     "output_type": "stream",
     "text": [
      "\r\n",
      "                                                                                \r"
     ]
    }
   ],
   "source": [
    "join_csv_json.show(10)"
   ]
  },
  {
   "cell_type": "code",
   "execution_count": 10,
   "id": "29e99729",
   "metadata": {},
   "outputs": [],
   "source": [
    "#limpando colunas ESTADO SEXO IDADE duplicadas\n",
    "#Tabela 1 pronta\n",
    "join_csv_json_final = join_csv_json.select(\n",
    "    col('ESTADO'),\n",
    "    col('SEXO'),\n",
    "    col('IDADE').cast(IntegerType()),\n",
    "    col('ETNIA'),\n",
    "    col('ASMA'),\n",
    "    col('CARDIOPATIA'),\n",
    "    col('DIABETE'),\n",
    "    col('SIN_DOWN'),\n",
    "    col('EVOLUCAO_CASO'),\n",
    "    col('PRIMEIRA_DOSE'),\n",
    "    col('SEGUNDA_DOSE')\n",
    ").limit(1000000)"
   ]
  },
  {
   "cell_type": "code",
   "execution_count": 31,
   "id": "47a654c9",
   "metadata": {},
   "outputs": [
    {
     "name": "stderr",
     "output_type": "stream",
     "text": [
      "[Stage 102:>                                                        (0 + 2) / 2]\r"
     ]
    },
    {
     "name": "stdout",
     "output_type": "stream",
     "text": [
      "215880\n"
     ]
    },
    {
     "name": "stderr",
     "output_type": "stream",
     "text": [
      "\r\n",
      "[Stage 102:============================>                            (1 + 1) / 2]\r\n",
      "\r\n",
      "                                                                                \r"
     ]
    }
   ],
   "source": [
    "type(join_csv_json_final)\n",
    "print(join_csv_json_final.count())"
   ]
  },
  {
   "cell_type": "code",
   "execution_count": 12,
   "id": "5b8e873d",
   "metadata": {
    "scrolled": true
   },
   "outputs": [
    {
     "name": "stderr",
     "output_type": "stream",
     "text": [
      "                                                                                \r"
     ]
    }
   ],
   "source": [
    "#Criando tabela 2\n",
    "#Fazendo o group by na base concatenada(join_csv_json_final) pelos meses\n",
    "from pyspark.sql.functions import first\n",
    "from pyspark.sql.functions import avg \n",
    "from pyspark.sql.functions import when \n",
    "from pyspark.sql.functions import sum as _sum\n",
    "from pyspark.sql.functions import max as _max\n",
    "from pyspark.sql.functions import lit\n",
    "from pyspark.sql.functions import count as _count\n",
    "from pyspark.sql.functions import round as _round\n",
    "\n",
    "\n",
    "#criando colunas de sexo p/ futuro join\n",
    "\n",
    "df_pivot_sexo=join_csv_json_final.select(\n",
    "    col('ESTADO').alias('ESTADO_sex'),\n",
    "    col('IDADE').cast(IntegerType()),\n",
    "    col('SEXO')\n",
    ").groupBy(\"ESTADO_sex\").pivot(\"SEXO\").avg(\"IDADE\")\n"
   ]
  },
  {
   "cell_type": "code",
   "execution_count": 13,
   "id": "05ddb631",
   "metadata": {},
   "outputs": [],
   "source": [
    "#Somando doenças por estado\n",
    "\n",
    "df_doenca = join_csv_json_final.select(\n",
    "    col('ESTADO').alias('ESTADO_doe'),\n",
    "    when(col('ASMA')==\"SIM\",1).otherwise(0).alias('asma_trat'),\n",
    "    when(col('CARDIOPATIA')==\"SIM\",1).otherwise(0).alias('card_trat'),\n",
    "    when(col('DIABETE')==\"SIM\",1).otherwise(0).alias('diab_trat'),\n",
    "    when(col('SIN_DOWN')==\"SIM\",1).otherwise(0).alias('down_trat')\n",
    ").groupBy('ESTADO_doe').agg(_sum('asma_trat'),_sum('card_trat'),_sum('diab_trat'),_sum('down_trat'))\n"
   ]
  },
  {
   "cell_type": "code",
   "execution_count": 30,
   "id": "aab78c54",
   "metadata": {},
   "outputs": [
    {
     "name": "stderr",
     "output_type": "stream",
     "text": [
      "[Stage 499:>                                                        (0 + 2) / 2]\r"
     ]
    },
    {
     "name": "stdout",
     "output_type": "stream",
     "text": [
      "+----------+----+--------+---------+-----+\n",
      "|ESTADO_evo|cura|ignorado|internado|obito|\n",
      "+----------+----+--------+---------+-----+\n",
      "|        AC|   6|      16|        0|    0|\n",
      "|        AL|  29|      85|        0|    0|\n",
      "|        AM|  81|     172|        0|    0|\n",
      "|        AP|   2|      23|        0|    0|\n",
      "|        BA| 129|     772|        0|    0|\n",
      "|        CE| 120|     457|        0|    0|\n",
      "|        DF|  31|     574|        0|    0|\n",
      "|        ES|   4|     297|        0|    0|\n",
      "|        GO| 127|     424|        0|    0|\n",
      "|        MA|   7|     172|        0|    0|\n",
      "|        MG| 494|    1925|        0|    1|\n",
      "|        MS| 246|     145|        0|    0|\n",
      "|        MT|  42|     254|        0|    0|\n",
      "|        PA|  14|     225|        0|    0|\n",
      "|        PB| 102|     163|        0|    1|\n",
      "|        PE| 318|     596|        0|    0|\n",
      "|        PI|  12|     125|        0|    0|\n",
      "|        PR|  70|    1234|        0|    0|\n",
      "|        RJ|  98|    1780|        0|    0|\n",
      "|        RN|   2|     273|        0|    0|\n",
      "+----------+----+--------+---------+-----+\n",
      "only showing top 20 rows\n",
      "\n"
     ]
    },
    {
     "name": "stderr",
     "output_type": "stream",
     "text": [
      "\r\n",
      "                                                                                \r"
     ]
    }
   ],
   "source": [
    "#Somando evolução dos casos\n",
    "\n",
    "#agrupando\n",
    "df_pivot_evolucao_1=join_csv_json_final.select(\n",
    "    col('ESTADO'),\n",
    "    when(col('EVOLUCAO_CASO')==\"null\",\"ignorado\").\n",
    "    when(col('EVOLUCAO_CASO')==\"Ignorado\",\"ignorado\").\n",
    "    when(col('EVOLUCAO_CASO')==\"Cancelado\",\"ignorado\").\n",
    "    when(col('EVOLUCAO_CASO')==\"Cura\",\"cura\").\n",
    "    when(col('EVOLUCAO_CASO').like('Em tratamento%'),\"cura\").\n",
    "    when(col('EVOLUCAO_CASO')==\"Óbito\",\"obito\").\n",
    "    when(col('EVOLUCAO_CASO').like(\"Internado%\"),\"internado\").\n",
    "    otherwise(\"ignorado\").\n",
    "    alias(\"EVOLUCAO_CASO\")\n",
    ").withColumn(\"contagem\",lit(1))\n",
    "\n",
    "#somando\n",
    "df_pivot_evolucao_2=df_pivot_evolucao_1.select(\n",
    "    col('ESTADO').alias('ESTADO_evo'),\n",
    "    col('EVOLUCAO_CASO'),\n",
    "    col('contagem')\n",
    ").groupBy(\"ESTADO_evo\").pivot(\"EVOLUCAO_CASO\").sum('contagem')\n",
    "\n",
    "#Removendo valores nulos da contagem\n",
    "df_pivot_evolucao_3=df_pivot_evolucao_2.select(\n",
    "    col('ESTADO_evo'),\n",
    "    when(((col('cura').cast(\"int\").isNull())) ,0).otherwise(col('cura')).alias('cura'),\n",
    "    when(((col('ignorado').cast(\"int\").isNull())) ,0).otherwise(col('ignorado')).alias('ignorado'),\n",
    "    when(((col('internado').cast(\"int\").isNull())) ,0).otherwise(col('internado')).alias('internado'),\n",
    "    when(((col('obito').cast(\"int\").isNull())) ,0).otherwise(col('obito')).alias('obito')\n",
    ")"
   ]
  },
  {
   "cell_type": "code",
   "execution_count": 27,
   "id": "d9ffabac",
   "metadata": {},
   "outputs": [],
   "source": [
    "#Transformando a coluna TERRITORIALIDADES em siglas\n",
    "\n",
    "df_idh=arquivo_todos_txt.withColumn('SIGLA',\n",
    "                            when(col('TERRITORIALIDADES')=='São Paulo',\"SP\").\n",
    "                            when(col('TERRITORIALIDADES')=='Brasil',\"BR\").\n",
    "                            when(col('TERRITORIALIDADES')=='Acre',\"AC\").\n",
    "                            when(col('TERRITORIALIDADES')=='Alagoas',\"AL\").\n",
    "                            when(col('TERRITORIALIDADES')=='Amapá',\"AP\").\n",
    "                            when(col('TERRITORIALIDADES')=='Amazonas',\"AM\").\n",
    "                            when(col('TERRITORIALIDADES')=='Bahia',\"BA\").\n",
    "                            when(col('TERRITORIALIDADES')=='Ceará',\"CE\").\n",
    "                            when(col('TERRITORIALIDADES')=='Distrito Federal',\"DF\").\n",
    "                            when(col('TERRITORIALIDADES')=='Espírito Santo',\"ES\").\n",
    "                            when(col('TERRITORIALIDADES')=='Goiás',\"GO\").\n",
    "                            when(col('TERRITORIALIDADES')=='Maranhão',\"MA\").\n",
    "                            when(col('TERRITORIALIDADES')=='Mato Grosso do Sul',\"MS\").\n",
    "                            when(col('TERRITORIALIDADES')=='Mato Grosso',\"MT\").\n",
    "                            when(col('TERRITORIALIDADES')=='Minas Gerais',\"MG\").\n",
    "                            when(col('TERRITORIALIDADES')=='Paraíba',\"PB\").\n",
    "                            when(col('TERRITORIALIDADES')=='Paraná',\"PR\").\n",
    "                            when(col('TERRITORIALIDADES')=='Pará',\"PA\").\n",
    "                            when(col('TERRITORIALIDADES')=='Pernambuco',\"PE\").\n",
    "                            when(col('TERRITORIALIDADES')=='Piauí',\"PI\").\n",
    "                            when(col('TERRITORIALIDADES')=='Rio de Janeiro',\"RJ\").\n",
    "                            when(col('TERRITORIALIDADES')=='Rio Grande do Norte',\"RN\").\n",
    "                            when(col('TERRITORIALIDADES')=='Rio Grande do Sul',\"RS\").\n",
    "                            when(col('TERRITORIALIDADES')=='Rondônia',\"RO\").\n",
    "                            when(col('TERRITORIALIDADES')=='Roraima',\"RR\").\n",
    "                            when(col('TERRITORIALIDADES')=='Santa Catarina',\"SC\").\n",
    "                            when(col('TERRITORIALIDADES')=='Sergipe',\"SE\").\n",
    "                            when(col('TERRITORIALIDADES')=='Tocantins',\"TO\")                             \n",
    "                            )"
   ]
  },
  {
   "cell_type": "code",
   "execution_count": 31,
   "id": "1b1f8723",
   "metadata": {},
   "outputs": [],
   "source": [
    "#JOIN nas tabelas tratadas anteriormente\n",
    "\n",
    "df_estado_join_1 = df_pivot_sexo.join(df_doenca,\n",
    "                                    df_pivot_sexo.ESTADO_sex==df_doenca.ESTADO_doe,\n",
    "                                    \"inner\")\n",
    "\n",
    "df_estado_join_2 = df_estado_join_1.join(df_pivot_evolucao_3,\n",
    "                                           df_pivot_evolucao_3.ESTADO_evo==df_estado_join_1.ESTADO_sex,\n",
    "                                           \"inner\")\n",
    "\n",
    "df_estado_join_3 = df_estado_join_2.join(df_idh,\n",
    "                                        df_estado_join_2.ESTADO_sex==df_idh.SIGLA,\n",
    "                                        \"inner\")\n",
    "\n",
    "\n",
    "\n",
    "\n",
    "df_estado_join_final = df_estado_join_3.select(\n",
    "    col('ESTADO_sex').alias('estado'),\n",
    "    col('IDH').alias('idh'),\n",
    "    col('MEDIA_ANOS_ESTUDOS').alias('media_anos_estudo'),\n",
    "    col('INDICE_EDUCACAO').alias('indice_educacao'),\n",
    "    col('LONGEVIDADE').alias('longevidade'),\n",
    "    col('RENDA').alias('renda'),\n",
    "    _round(col('FEMININO')).alias('media_idade_feminina'),\n",
    "    _round(col('MASCULINO')).alias('media_idade_masculina'),\n",
    "    col('sum(asma_trat)').alias('qte_asma'),\n",
    "    col('sum(card_trat)').alias('qte_cardiopatia'),\n",
    "    col('sum(diab_trat)').alias('qte_diabete'),\n",
    "    col('sum(down_trat)').alias('qte_down'),\n",
    "    col('cura').alias('casos_curados'),\n",
    "    col('ignorado').alias('casos_ignorados'),\n",
    "    col('internado').alias('casos_internados'),\n",
    "    col('obito').alias('casos_obitos')\n",
    ")"
   ]
  },
  {
   "cell_type": "code",
   "execution_count": 32,
   "id": "43b832f2",
   "metadata": {},
   "outputs": [
    {
     "name": "stderr",
     "output_type": "stream",
     "text": [
      "22/06/04 19:07:13 WARN AbstractS3ACommitterFactory: Using standard FileOutputCommitter to commit work. This is slow and potentially unsafe.\n",
      "22/06/04 19:07:30 WARN AbstractS3ACommitterFactory: Using standard FileOutputCommitter to commit work. This is slow and potentially unsafe.\n",
      "22/06/04 19:07:33 WARN AbstractS3ACommitterFactory: Using standard FileOutputCommitter to commit work. This is slow and potentially unsafe.\n",
      "22/06/04 19:08:08 WARN AbstractS3ACommitterFactory: Using standard FileOutputCommitter to commit work. This is slow and potentially unsafe.\n",
      "                                                                                \r"
     ]
    }
   ],
   "source": [
    "#Salvando S3 casos e evolução\n",
    "join_csv_json_final.write.mode('overwrite').option(\"header\", \"true\").csv('s3a://stc-grupo04-henrique-sptech-data-final/trated_tabel_csv_json.csv')\n",
    "\n",
    "#Salvando S3 estado_IDH\n",
    "df_estado_join_final.write.mode('overwrite').option(\"header\", \"true\").csv('s3a://stc-grupo04-henrique-sptech-data-final/trated_tabel_inner_txt.csv/')"
   ]
  },
  {
   "cell_type": "code",
   "execution_count": 35,
   "id": "0d013062",
   "metadata": {},
   "outputs": [
    {
     "name": "stdout",
     "output_type": "stream",
     "text": [
      "inserindo azure\n"
     ]
    },
    {
     "name": "stderr",
     "output_type": "stream",
     "text": [
      "                                                                                \r"
     ]
    },
    {
     "name": "stdout",
     "output_type": "stream",
     "text": [
      "Tabela por caso salva\n",
      "inserindo azure\n"
     ]
    },
    {
     "name": "stderr",
     "output_type": "stream",
     "text": [
      "                                                                                \r"
     ]
    },
    {
     "name": "stdout",
     "output_type": "stream",
     "text": [
      "Tabela por estado salva\n"
     ]
    }
   ],
   "source": [
    "#Salvando Azure - casos e evolução\n",
    "print(\"inserindo azure\")\n",
    "join_csv_json_final.write \\\n",
    ".format('com.microsoft.sqlserver.jdbc.spark') \\\n",
    ".mode('overwrite') \\\n",
    ".option('driver', 'com.microsoft.sqlserver.jdbc.SQLServerDriver') \\\n",
    ".option('url', 'jdbc:sqlserver://servidor-grupo04.database.windows.net;databaseName=grupo04;') \\\n",
    ".option('dbtable', 'table_casos_doencas') \\\n",
    ".option('user', 'urubu100') \\\n",
    ".option('password', 'Urubu1@@') \\\n",
    ".save()\n",
    "print(\"Tabela por caso salva\")\n",
    "\n",
    "#Salvando Azure - consolidado estado\n",
    "print(\"inserindo azure\")\n",
    "df_estado_join_final.write \\\n",
    ".format('com.microsoft.sqlserver.jdbc.spark') \\\n",
    ".mode('overwrite') \\\n",
    ".option('driver', 'com.microsoft.sqlserver.jdbc.SQLServerDriver') \\\n",
    ".option('url', 'jdbc:sqlserver://servidor-grupo04.database.windows.net;databaseName=grupo04;') \\\n",
    ".option('dbtable', 'table_estado_evolucao') \\\n",
    ".option('user', 'urubu100') \\\n",
    ".option('password', 'Urubu1@@') \\\n",
    ".save()\n",
    "print(\"Tabela por estado salva\")"
   ]
  },
  {
   "cell_type": "code",
   "execution_count": null,
   "id": "6e587382",
   "metadata": {},
   "outputs": [],
   "source": []
  }
 ],
 "metadata": {
  "kernelspec": {
   "display_name": "Python 3 (ipykernel)",
   "language": "python",
   "name": "python3"
  },
  "language_info": {
   "codemirror_mode": {
    "name": "ipython",
    "version": 3
   },
   "file_extension": ".py",
   "mimetype": "text/x-python",
   "name": "python",
   "nbconvert_exporter": "python",
   "pygments_lexer": "ipython3",
   "version": "3.7.10"
  }
 },
 "nbformat": 4,
 "nbformat_minor": 5
}
