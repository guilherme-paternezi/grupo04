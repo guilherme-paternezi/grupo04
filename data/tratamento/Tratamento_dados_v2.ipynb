{
 "cells": [
  {
   "cell_type": "code",
   "execution_count": 9,
   "id": "1f5600fd",
   "metadata": {},
   "outputs": [
    {
     "name": "stderr",
     "output_type": "stream",
     "text": [
      "                                                                                \r"
     ]
    },
    {
     "name": "stdout",
     "output_type": "stream",
     "text": [
      "1000001\n"
     ]
    },
    {
     "name": "stderr",
     "output_type": "stream",
     "text": [
      "[Stage 43:===========================================>              (3 + 1) / 4]\r"
     ]
    },
    {
     "name": "stdout",
     "output_type": "stream",
     "text": [
      "1000000\n",
      "28\n",
      "<class 'pyspark.sql.dataframe.DataFrame'>\n",
      "<class 'pyspark.sql.dataframe.DataFrame'>\n",
      "<class 'pyspark.sql.dataframe.DataFrame'>\n"
     ]
    },
    {
     "name": "stderr",
     "output_type": "stream",
     "text": [
      "                                                                                \r"
     ]
    }
   ],
   "source": [
    "#iniciar spark\n",
    "from pyspark import SparkConf\n",
    "from pyspark.sql import SparkSession\n",
    "from pyspark.sql.functions import col\n",
    "from pyspark.sql.types import IntegerType\n",
    "\n",
    "conf = SparkConf()\n",
    "#conf.set('spark.jars.packages', 'org.apache.hadoop:hadoop-aws:3.2.2')\n",
    "conf.set('spark.jars.packages', 'org.apache.hadoop:hadoop-aws:3.2.2,com.microsoft.azure:spark-mssql-connector_2.12:1.2.0')\n",
    "conf.set('spark.hadoop.fs.s3a.aws.credentials.provider', 'com.amazonaws.auth.InstanceProfileCredentialsProvider')\n",
    "spark = SparkSession.builder.config(conf=conf).getOrCreate()\n",
    "\n",
    "\n",
    "#carregar tabela ( atenção ao caminho)\n",
    "arquivo_json_grande = spark.read.json('s3a://stc-grupo04-henrique-sptech-raw-data/casos_obitos_doencas_pre_multiline.json')\n",
    "arquivo_csv = spark.read.option('delimiter', ';').option('header', 'true').csv('s3a://stc-grupo04-henrique-sptech-raw-data/part-00000-1dc7c2db-2925-4e86-8dd8-3445327415e3.c000.csv')\n",
    "arquivo_txt = spark.read.option('delimiter', '|').option('header', 'true').csv('s3a://stc-grupo04-henrique-sptech-raw-data/data_IDH_pipe.txt')\n",
    "\n",
    "print(arquivo_json_grande.count())\n",
    "print(arquivo_csv.count())\n",
    "print(arquivo_txt.count())\n",
    "\n",
    "print( type(arquivo_json_grande) )\n",
    "print( type(arquivo_csv) )\n",
    "print( type(arquivo_txt) )\n"
   ]
  },
  {
   "cell_type": "code",
   "execution_count": 10,
   "id": "e6944d83",
   "metadata": {},
   "outputs": [
    {
     "name": "stdout",
     "output_type": "stream",
     "text": [
      "root\n",
      " |-- _corrupt_record: string (nullable = true)\n",
      " |-- asma: string (nullable = true)\n",
      " |-- cardiopatia: string (nullable = true)\n",
      " |-- codigo_ibge: string (nullable = true)\n",
      " |-- cs_sexo: string (nullable = true)\n",
      " |-- data_inicio_sintomas: string (nullable = true)\n",
      " |-- diabetes: string (nullable = true)\n",
      " |-- diagnostico_covid19: string (nullable = true)\n",
      " |-- doenca_hematologica: string (nullable = true)\n",
      " |-- doenca_hepatica: string (nullable = true)\n",
      " |-- doenca_neurologica: string (nullable = true)\n",
      " |-- doenca_renal: string (nullable = true)\n",
      " |-- estado: string (nullable = true)\n",
      " |-- idade: string (nullable = true)\n",
      " |-- imunodepressao: string (nullable = true)\n",
      " |-- obesidade: string (nullable = true)\n",
      " |-- obito: string (nullable = true)\n",
      " |-- outros_fatores_de_risco: string (nullable = true)\n",
      " |-- pneumopatia: string (nullable = true)\n",
      " |-- puerpera: string (nullable = true)\n",
      " |-- sindrome_de_down: string (nullable = true)\n",
      "\n",
      "root\n",
      " |-- source_id: string (nullable = true)\n",
      " |-- dataNotificacao: string (nullable = true)\n",
      " |-- dataInicioSintomas: string (nullable = true)\n",
      " |-- sintomas: string (nullable = true)\n",
      " |-- profissionalSaude: string (nullable = true)\n",
      " |-- racaCor: string (nullable = true)\n",
      " |-- outrosSintomas: string (nullable = true)\n",
      " |-- outrasCondicoes: string (nullable = true)\n",
      " |-- profissionalSeguranca: string (nullable = true)\n",
      " |-- cbo: string (nullable = true)\n",
      " |-- condicoes: string (nullable = true)\n",
      " |-- sexo: string (nullable = true)\n",
      " |-- estado: string (nullable = true)\n",
      " |-- estadoIBGE: string (nullable = true)\n",
      " |-- municipio: string (nullable = true)\n",
      " |-- municipioIBGE: string (nullable = true)\n",
      " |-- origem: string (nullable = true)\n",
      " |-- estadoNotificacao: string (nullable = true)\n",
      " |-- estadoNotificacaoIBGE: string (nullable = true)\n",
      " |-- municipioNotificacao: string (nullable = true)\n",
      " |-- municipioNotificacaoIBGE: string (nullable = true)\n",
      " |-- excluido: string (nullable = true)\n",
      " |-- validado: string (nullable = true)\n",
      " |-- dataEncerramento: string (nullable = true)\n",
      " |-- evolucaoCaso: string (nullable = true)\n",
      " |-- classificacaoFinal: string (nullable = true)\n",
      " |-- codigoEstrategiaCovid: string (nullable = true)\n",
      " |-- codigoBuscaAtivaAssintomatico: string (nullable = true)\n",
      " |-- outroBuscaAtivaAssintomatico: string (nullable = true)\n",
      " |-- codigoTriagemPopulacaoEspecifica: string (nullable = true)\n",
      " |-- outroTriagemPopulacaoEspecifica: string (nullable = true)\n",
      " |-- codigoLocalRealizacaoTestagem: string (nullable = true)\n",
      " |-- outroLocalRealizacaoTestagem: string (nullable = true)\n",
      " |-- codigoRecebeuVacina: string (nullable = true)\n",
      " |-- codigoDosesVacina: string (nullable = true)\n",
      " |-- dataPrimeiraDose: string (nullable = true)\n",
      " |-- dataSegundaDose: string (nullable = true)\n",
      " |-- codigoLaboratorioPrimeiraDose: string (nullable = true)\n",
      " |-- codigoLaboratorioSegundaDose: string (nullable = true)\n",
      " |-- lotePrimeiraDose: string (nullable = true)\n",
      " |-- loteSegundaDose: string (nullable = true)\n",
      " |-- codigoContemComunidadeTradicional: string (nullable = true)\n",
      " |-- totalTestesRealizados: string (nullable = true)\n",
      " |-- codigoEstadoTeste1: string (nullable = true)\n",
      " |-- codigoTipoTeste1: string (nullable = true)\n",
      " |-- codigoFabricanteTeste1: string (nullable = true)\n",
      " |-- codigoResultadoTeste1: string (nullable = true)\n",
      " |-- dataColetaTeste1: string (nullable = true)\n",
      " |-- codigoEstadoTeste2: string (nullable = true)\n",
      " |-- codigoTipoTeste2: string (nullable = true)\n",
      " |-- codigoFabricanteTeste2: string (nullable = true)\n",
      " |-- codigoResultadoTeste2: string (nullable = true)\n",
      " |-- dataColetaTeste2: string (nullable = true)\n",
      " |-- codigoEstadoTeste3: string (nullable = true)\n",
      " |-- codigoTipoTeste3: string (nullable = true)\n",
      " |-- codigoFabricanteTeste3: string (nullable = true)\n",
      " |-- codigoResultadoTeste3: string (nullable = true)\n",
      " |-- dataColetaTeste3: string (nullable = true)\n",
      " |-- codigoEstadoTeste4: string (nullable = true)\n",
      " |-- codigoTipoTeste4: string (nullable = true)\n",
      " |-- codigoFabricanteTeste4: string (nullable = true)\n",
      " |-- codigoResultadoTeste4: string (nullable = true)\n",
      " |-- dataColetaTeste4: string (nullable = true)\n",
      " |-- idade: string (nullable = true)\n",
      "\n",
      "root\n",
      " |-- Territorialidades: string (nullable = true)\n",
      " |-- Média de anos de estudo 2017: string (nullable = true)\n",
      " |-- IDHM Educação 2017: string (nullable = true)\n",
      " |-- IDHM Longevidade 2017: string (nullable = true)\n",
      " |-- IDHM Renda 2017: string (nullable = true)\n",
      " |-- IDHM 2017: string (nullable = true)\n",
      " |-- _c6: string (nullable = true)\n",
      "\n"
     ]
    }
   ],
   "source": [
    "#exibir a tabela\n",
    "arquivo_json_grande.printSchema()\n",
    "arquivo_csv.printSchema()\n",
    "arquivo_txt.printSchema()\n"
   ]
  },
  {
   "cell_type": "code",
   "execution_count": 11,
   "id": "bd010c6e",
   "metadata": {
    "scrolled": true
   },
   "outputs": [
    {
     "name": "stdout",
     "output_type": "stream",
     "text": [
      "root\n",
      " |-- ESTADO: string (nullable = true)\n",
      " |-- SEXO: string (nullable = true)\n",
      " |-- IDADE: integer (nullable = true)\n",
      " |-- ASMA: string (nullable = true)\n",
      " |-- CARDIOPATIA: string (nullable = true)\n",
      " |-- DIABETE: string (nullable = true)\n",
      " |-- OBESIDADE: string (nullable = true)\n",
      " |-- SIN_DOWN: string (nullable = true)\n",
      "\n",
      "root\n",
      " |-- ESTADO: string (nullable = true)\n",
      " |-- SEXO: string (nullable = true)\n",
      " |-- IDADE: integer (nullable = true)\n",
      " |-- ETNIA: string (nullable = true)\n",
      " |-- EVOLUCAO_CASO: string (nullable = true)\n",
      " |-- PRIMEIRA_DOSE: string (nullable = true)\n",
      " |-- SEGUNDA_DOSE: string (nullable = true)\n",
      "\n",
      "root\n",
      " |-- TERRITORIALIDADES: string (nullable = true)\n",
      " |-- MEDIA_ANOS_ESTUDOS: string (nullable = true)\n",
      " |-- INDICE_EDUCACAO: string (nullable = true)\n",
      " |-- LONGEVIDADE: string (nullable = true)\n",
      " |-- RENDA: string (nullable = true)\n",
      " |-- IDH: string (nullable = true)\n",
      "\n"
     ]
    }
   ],
   "source": [
    "from pyspark.sql.functions import col\n",
    "from pyspark.sql.types import IntegerType\n",
    "# removendo as colunas que não são necessarias do json\n",
    "json_pre_tratado = arquivo_json_grande.select(\n",
    "    col('estado').alias('ESTADO'),\n",
    "    col('cs_sexo').alias('SEXO'),\n",
    "    col('idade').cast(IntegerType()).alias('IDADE'),\n",
    "    \n",
    "    col('asma').alias('ASMA'),\n",
    "    col('cardiopatia').alias('CARDIOPATIA'),\n",
    "    col('diabetes').alias('DIABETE'),\n",
    "    col('obesidade').alias('OBESIDADE'),\n",
    "    col('sindrome_de_down').alias('SIN_DOWN')\n",
    ")\n",
    "# removendo as colunas que não são necessarias do csv\n",
    "\n",
    "csv_pre_tratado = arquivo_csv.select(\n",
    "    col('estadoIBGE').alias('ESTADO'),\n",
    "    col('sexo').alias('SEXO'),\n",
    "    col('idade').cast(IntegerType()).alias('IDADE'),\n",
    "    \n",
    "    col('racaCor').alias('ETNIA'),\n",
    "    col('evolucaoCaso').alias('EVOLUCAO_CASO'),\n",
    "    col('codigoLaboratorioPrimeiraDose').alias('PRIMEIRA_DOSE'),\n",
    "    col('codigoLaboratorioSegundaDose').alias('SEGUNDA_DOSE')\n",
    ")\n",
    "\n",
    "txt_pre_tratado=arquivo_txt.select(\n",
    "    col('Territorialidades').alias('TERRITORIALIDADES'),\n",
    "    col('Média de anos de estudo 2017').alias('MEDIA_ANOS_ESTUDOS'),\n",
    "    col('IDHM Educação 2017').alias('INDICE_EDUCACAO'),\n",
    "    col('IDHM Longevidade 2017').alias('LONGEVIDADE'),\n",
    "    col('IDHM Renda 2017').alias('RENDA'),\n",
    "    col('IDHM 2017').alias('IDH'),\n",
    ")\n",
    "\n",
    "json_pre_tratado.printSchema()\n",
    "\n",
    "csv_pre_tratado.printSchema()\n",
    "\n",
    "txt_pre_tratado.printSchema()"
   ]
  },
  {
   "cell_type": "code",
   "execution_count": 13,
   "id": "12f2f18d",
   "metadata": {},
   "outputs": [
    {
     "name": "stdout",
     "output_type": "stream",
     "text": [
      "salvando no s3\n"
     ]
    },
    {
     "name": "stderr",
     "output_type": "stream",
     "text": [
      "22/05/30 01:54:17 WARN AbstractS3ACommitterFactory: Using standard FileOutputCommitter to commit work. This is slow and potentially unsafe.\n",
      "22/05/30 01:54:17 WARN AbstractS3ACommitterFactory: Using standard FileOutputCommitter to commit work. This is slow and potentially unsafe.\n",
      "22/05/30 01:54:17 WARN AbstractS3ACommitterFactory: Using standard FileOutputCommitter to commit work. This is slow and potentially unsafe.\n",
      "22/05/30 01:54:23 WARN AbstractS3ACommitterFactory: Using standard FileOutputCommitter to commit work. This is slow and potentially unsafe.\n",
      "22/05/30 01:54:24 WARN AbstractS3ACommitterFactory: Using standard FileOutputCommitter to commit work. This is slow and potentially unsafe.\n",
      "22/05/30 01:54:29 WARN AbstractS3ACommitterFactory: Using standard FileOutputCommitter to commit work. This is slow and potentially unsafe.\n",
      "22/05/30 01:54:33 WARN AbstractS3ACommitterFactory: Using standard FileOutputCommitter to commit work. This is slow and potentially unsafe.\n",
      "22/05/30 01:54:34 WARN AbstractS3ACommitterFactory: Using standard FileOutputCommitter to commit work. This is slow and potentially unsafe.\n",
      "22/05/30 01:54:34 WARN AbstractS3ACommitterFactory: Using standard FileOutputCommitter to commit work. This is slow and potentially unsafe.\n",
      "22/05/30 01:54:41 WARN AbstractS3ACommitterFactory: Using standard FileOutputCommitter to commit work. This is slow and potentially unsafe.\n",
      "22/05/30 01:54:41 WARN AbstractS3ACommitterFactory: Using standard FileOutputCommitter to commit work. This is slow and potentially unsafe.\n",
      "22/05/30 01:54:49 WARN AbstractS3ACommitterFactory: Using standard FileOutputCommitter to commit work. This is slow and potentially unsafe.\n",
      "22/05/30 01:54:50 WARN AbstractS3ACommitterFactory: Using standard FileOutputCommitter to commit work. This is slow and potentially unsafe.\n",
      "                                                                                \r"
     ]
    },
    {
     "name": "stdout",
     "output_type": "stream",
     "text": [
      "salvo\n"
     ]
    }
   ],
   "source": [
    "from pyspark.sql.functions import col\n",
    "from pyspark.sql.types import IntegerType\n",
    "print(\"salvando no s3\")\n",
    "json_pre_tratado.write.mode('overwrite').option(\"header\", \"true\").csv('s3a://stc-grupo04-henrique-sptech-data-transform/preTratedJson.csv')\n",
    "csv_pre_tratado.write.mode('overwrite').option(\"header\", \"true\").csv('s3a://stc-grupo04-henrique-sptech-data-transform/preTratedCsv.csv')\n",
    "txt_pre_tratado.write.mode('overwrite').option(\"header\", \"true\").csv('s3a://stc-grupo04-henrique-sptech-data-transform/preTratedTxt.csv')\n",
    "\n",
    "print(\"salvo\")"
   ]
  },
  {
   "cell_type": "code",
   "execution_count": null,
   "id": "94aecc3b",
   "metadata": {},
   "outputs": [],
   "source": [
    "\n",
    "#fazendo calculos\n",
    "from pyspark.sql.functions import col, sum\n",
    "from pyspark.sql.types import IntegerType\n",
    "json_pre_tratado.select(sum(col('idade').cast(IntegerType())).alias('soma')).show()\n",
    "csv_pre_tratado.select(sum(col('idade').cast(IntegerType())).alias('soma')).show()\n"
   ]
  },
  {
   "cell_type": "code",
   "execution_count": 5,
   "id": "78ac2480",
   "metadata": {},
   "outputs": [
    {
     "name": "stderr",
     "output_type": "stream",
     "text": [
      "                                                                                \r"
     ]
    },
    {
     "name": "stdout",
     "output_type": "stream",
     "text": [
      "+------+------------------+\n",
      "|estado|        avg(IDADE)|\n",
      "+------+------------------+\n",
      "|    SC|39.196452933151434|\n",
      "|    RO|  39.4694171578258|\n",
      "|    PI|39.044805321854824|\n",
      "|    AM| 39.22893088987189|\n",
      "|    RR| 39.21560846560847|\n",
      "|    GO|39.171869199878515|\n",
      "|  null|              null|\n",
      "|    TO| 39.42488331388565|\n",
      "|    MT| 39.07632927397351|\n",
      "|    SP| 39.19261509583087|\n",
      "|    ES| 39.20011461318052|\n",
      "|    PB|39.147176115542145|\n",
      "|    RS|39.090246248557136|\n",
      "|    MS|  39.4780073308897|\n",
      "|    AL|39.308251473477405|\n",
      "|    MG| 39.29136937574106|\n",
      "|    PA| 39.21754769263562|\n",
      "|    BA|39.085467218852074|\n",
      "|    SE| 39.41999612102405|\n",
      "|    PE|39.196951219512194|\n",
      "+------+------------------+\n",
      "only showing top 20 rows\n",
      "\n"
     ]
    },
    {
     "name": "stderr",
     "output_type": "stream",
     "text": [
      "[Stage 11:===========================================>              (3 + 1) / 4]\r"
     ]
    },
    {
     "name": "stdout",
     "output_type": "stream",
     "text": [
      "+------+------------------+\n",
      "|estado|        avg(IDADE)|\n",
      "+------+------------------+\n",
      "|    SC| 35.85145317545748|\n",
      "|    RO|35.515151515151516|\n",
      "|    PI| 37.00729927007299|\n",
      "|    AM| 35.82213438735178|\n",
      "|    RR|23.545454545454547|\n",
      "|    GO| 35.25589836660617|\n",
      "|  null|38.992098935073855|\n",
      "|    TO| 37.05714285714286|\n",
      "|    MT| 35.66554054054054|\n",
      "|    SP|36.169973792978105|\n",
      "|    PB|37.172284644194754|\n",
      "|    ES|  36.7906976744186|\n",
      "|    RS| 37.74193548387097|\n",
      "|    MS| 35.38107416879795|\n",
      "|    AL| 32.14035087719298|\n",
      "|    MG| 36.77768595041322|\n",
      "|    PA| 38.37238493723849|\n",
      "|    BA|  36.4173140954495|\n",
      "|    SE| 37.36974789915966|\n",
      "|    PE|  37.7910284463895|\n",
      "+------+------------------+\n",
      "only showing top 20 rows\n",
      "\n"
     ]
    },
    {
     "name": "stderr",
     "output_type": "stream",
     "text": [
      "                                                                                \r"
     ]
    }
   ],
   "source": [
    "# mostrando average de idade por estado\n",
    "json_pre_tratado.groupby('estado').avg().show()\n",
    "csv_pre_tratado.groupby('estado').avg().show()"
   ]
  },
  {
   "cell_type": "code",
   "execution_count": 6,
   "id": "16336551",
   "metadata": {},
   "outputs": [
    {
     "name": "stdout",
     "output_type": "stream",
     "text": [
      "root\n",
      " |-- ESTADO: string (nullable = true)\n",
      " |-- SEXO: string (nullable = true)\n",
      " |-- IDADE: integer (nullable = true)\n",
      " |-- ASMA: string (nullable = true)\n",
      " |-- CARDIOPATIA: string (nullable = true)\n",
      " |-- DIABETE: string (nullable = true)\n",
      " |-- OBESIDADE: string (nullable = true)\n",
      " |-- SIN_DOWN: string (nullable = true)\n",
      "\n",
      "inserindo azure\n"
     ]
    },
    {
     "name": "stderr",
     "output_type": "stream",
     "text": [
      "                                                                                \r"
     ]
    },
    {
     "name": "stdout",
     "output_type": "stream",
     "text": [
      "Salvo\n"
     ]
    }
   ],
   "source": [
    "#iniciar spark\n",
    "from pyspark import SparkConf\n",
    "from pyspark.sql import SparkSession\n",
    "from pyspark.sql.functions import col\n",
    "from pyspark.sql.types import IntegerType\n",
    "\n",
    "json_pre_tratado.printSchema()\n",
    "print(\"inserindo azure\")\n",
    "json_pre_tratado.write \\\n",
    ".format('com.microsoft.sqlserver.jdbc.spark') \\\n",
    ".mode('overwrite') \\\n",
    ".option('driver', 'com.microsoft.sqlserver.jdbc.SQLServerDriver') \\\n",
    ".option('url', 'jdbc:sqlserver://yuiti.database.windows.net;databaseName=grupo04;') \\\n",
    ".option('dbtable', 'teste2') \\\n",
    ".option('user', 'yuiti') \\\n",
    ".option('password', 'Thiago123') \\\n",
    ".save()\n",
    "print(\"Salvo\")"
   ]
  }
 ],
 "metadata": {
  "kernelspec": {
   "display_name": "Python 3 (ipykernel)",
   "language": "python",
   "name": "python3"
  },
  "language_info": {
   "codemirror_mode": {
    "name": "ipython",
    "version": 3
   },
   "file_extension": ".py",
   "mimetype": "text/x-python",
   "name": "python",
   "nbconvert_exporter": "python",
   "pygments_lexer": "ipython3",
   "version": "3.7.10"
  }
 },
 "nbformat": 4,
 "nbformat_minor": 5
}
